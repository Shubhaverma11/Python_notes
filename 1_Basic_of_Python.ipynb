{
  "cells": [
    {
      "cell_type": "markdown",
      "metadata": {
        "id": "view-in-github",
        "colab_type": "text"
      },
      "source": [
        "<a href=\"https://colab.research.google.com/github/Shubhaverma11/Python_notes/blob/main/1_Basic_of_Python.ipynb\" target=\"_parent\"><img src=\"https://colab.research.google.com/assets/colab-badge.svg\" alt=\"Open In Colab\"/></a>"
      ]
    },
    {
      "cell_type": "markdown",
      "source": [
        "# **Basic of Python**"
      ],
      "metadata": {
        "id": "rA1WytfI1qJJ"
      },
      "id": "rA1WytfI1qJJ"
    },
    {
      "cell_type": "markdown",
      "id": "6755f6c1",
      "metadata": {
        "id": "6755f6c1"
      },
      "source": [
        "# Jupyter Shortcuts\n",
        "\n",
        "+ esc + a - Add a cell above the current cell\n",
        "+ esc + b - Add a cell below the current cell\n",
        "+ esc + m - Convert a cell to markdown\n",
        "+ esc + y - Convert a cell to code cell\n",
        "+ esc + x - Delete the current cell"
      ]
    },
    {
      "cell_type": "code",
      "execution_count": null,
      "id": "6450120a",
      "metadata": {
        "scrolled": true,
        "id": "6450120a",
        "outputId": "e18d39d6-b678-4ee7-fc57-7a8d588c4399"
      },
      "outputs": [
        {
          "name": "stdout",
          "output_type": "stream",
          "text": [
            "Hello World\n"
          ]
        }
      ],
      "source": [
        "print('Hello World')"
      ]
    },
    {
      "cell_type": "markdown",
      "id": "9b2a2f58",
      "metadata": {
        "id": "9b2a2f58"
      },
      "source": [
        "# Naming Variable\n",
        "- Frist charater is alphabet or \"_\" underscore\n",
        "- It can be optimaly followed by character, Numeric &underscore\n",
        "- Do not use the predefined words like and, or ,for, while, when, if, else etc.\n",
        "\n",
        "- eg:\n",
        "__x_=10\n",
        "day7=12\n",
        "shu_v1=13"
      ]
    },
    {
      "cell_type": "markdown",
      "id": "2461f45e",
      "metadata": {
        "id": "2461f45e"
      },
      "source": [
        "# Datatypes"
      ]
    },
    {
      "cell_type": "code",
      "execution_count": null,
      "id": "4a381324",
      "metadata": {
        "id": "4a381324"
      },
      "outputs": [],
      "source": [
        "# integer\n",
        "x = 10"
      ]
    },
    {
      "cell_type": "code",
      "execution_count": null,
      "id": "0fbae069",
      "metadata": {
        "id": "0fbae069",
        "outputId": "fe0c980d-0d1b-4ab6-a195-ce87588f93fb"
      },
      "outputs": [
        {
          "data": {
            "text/plain": [
              "int"
            ]
          },
          "execution_count": 42,
          "metadata": {},
          "output_type": "execute_result"
        }
      ],
      "source": [
        "type(x)"
      ]
    },
    {
      "cell_type": "code",
      "execution_count": null,
      "id": "2aa47793",
      "metadata": {
        "id": "2aa47793"
      },
      "outputs": [],
      "source": [
        "# Float\n",
        "y = 10.23"
      ]
    },
    {
      "cell_type": "code",
      "execution_count": null,
      "id": "2e14c271",
      "metadata": {
        "id": "2e14c271",
        "outputId": "3a12944a-0af8-43fa-f18b-4913acb7cd84"
      },
      "outputs": [
        {
          "data": {
            "text/plain": [
              "float"
            ]
          },
          "execution_count": 44,
          "metadata": {},
          "output_type": "execute_result"
        }
      ],
      "source": [
        "type(y)"
      ]
    },
    {
      "cell_type": "code",
      "execution_count": null,
      "id": "9357cce9",
      "metadata": {
        "id": "9357cce9"
      },
      "outputs": [],
      "source": [
        "# Boolean\n",
        "z = True"
      ]
    },
    {
      "cell_type": "code",
      "execution_count": null,
      "id": "3d7536f0",
      "metadata": {
        "id": "3d7536f0",
        "outputId": "e5b95dfe-c91b-48ec-9520-738a21c22c74"
      },
      "outputs": [
        {
          "data": {
            "text/plain": [
              "bool"
            ]
          },
          "execution_count": 46,
          "metadata": {},
          "output_type": "execute_result"
        }
      ],
      "source": [
        "type(z)"
      ]
    },
    {
      "cell_type": "markdown",
      "id": "0c6e8be1",
      "metadata": {
        "id": "0c6e8be1"
      },
      "source": [
        "## Arithmetic Operation"
      ]
    },
    {
      "cell_type": "code",
      "execution_count": null,
      "id": "b2121aea",
      "metadata": {
        "id": "b2121aea"
      },
      "outputs": [],
      "source": [
        "x = 10\n",
        "y = 3"
      ]
    },
    {
      "cell_type": "code",
      "execution_count": null,
      "id": "d227b4e1",
      "metadata": {
        "id": "d227b4e1",
        "outputId": "b8c430d2-3c2e-4878-fa92-019628656ced"
      },
      "outputs": [
        {
          "data": {
            "text/plain": [
              "13"
            ]
          },
          "execution_count": 48,
          "metadata": {},
          "output_type": "execute_result"
        }
      ],
      "source": [
        "# Addition\n",
        "x + y"
      ]
    },
    {
      "cell_type": "code",
      "execution_count": null,
      "id": "25e4293f",
      "metadata": {
        "id": "25e4293f",
        "outputId": "3f4d9753-d355-4517-fb11-35e3a3703985"
      },
      "outputs": [
        {
          "data": {
            "text/plain": [
              "7"
            ]
          },
          "execution_count": 49,
          "metadata": {},
          "output_type": "execute_result"
        }
      ],
      "source": [
        "# Subtraction\n",
        "x - y"
      ]
    },
    {
      "cell_type": "code",
      "execution_count": null,
      "id": "5c411489",
      "metadata": {
        "id": "5c411489",
        "outputId": "e666c62d-ed10-44e0-bb3c-29a1d50ad7a1"
      },
      "outputs": [
        {
          "data": {
            "text/plain": [
              "30"
            ]
          },
          "execution_count": 50,
          "metadata": {},
          "output_type": "execute_result"
        }
      ],
      "source": [
        "# Multiplication\n",
        "x * y"
      ]
    },
    {
      "cell_type": "code",
      "execution_count": null,
      "id": "8a32ddd2",
      "metadata": {
        "id": "8a32ddd2",
        "outputId": "93234a07-8b74-4a49-d5bc-c215536b8863"
      },
      "outputs": [
        {
          "data": {
            "text/plain": [
              "1000"
            ]
          },
          "execution_count": 51,
          "metadata": {},
          "output_type": "execute_result"
        }
      ],
      "source": [
        "# Power\n",
        "x ** y"
      ]
    },
    {
      "cell_type": "code",
      "execution_count": null,
      "id": "f8aa23f3",
      "metadata": {
        "id": "f8aa23f3",
        "outputId": "a36da473-9600-4442-82ed-dd06d7f587de"
      },
      "outputs": [
        {
          "data": {
            "text/plain": [
              "3.3333333333333335"
            ]
          },
          "execution_count": 52,
          "metadata": {},
          "output_type": "execute_result"
        }
      ],
      "source": [
        "# Division\n",
        "x / y"
      ]
    },
    {
      "cell_type": "code",
      "execution_count": null,
      "id": "b4b85e3b",
      "metadata": {
        "id": "b4b85e3b",
        "outputId": "8450c687-43ac-4d58-e930-ae9835d50558"
      },
      "outputs": [
        {
          "data": {
            "text/plain": [
              "1"
            ]
          },
          "execution_count": 53,
          "metadata": {},
          "output_type": "execute_result"
        }
      ],
      "source": [
        "# Modulo Division\n",
        "x % y"
      ]
    },
    {
      "cell_type": "code",
      "execution_count": null,
      "id": "774c604f",
      "metadata": {
        "id": "774c604f",
        "outputId": "aa72680d-2543-47fe-81c8-2a09f057e902"
      },
      "outputs": [
        {
          "data": {
            "text/plain": [
              "3"
            ]
          },
          "execution_count": 54,
          "metadata": {},
          "output_type": "execute_result"
        }
      ],
      "source": [
        "# Floor Division\n",
        "x // y"
      ]
    },
    {
      "cell_type": "code",
      "execution_count": null,
      "id": "ad0ccb00",
      "metadata": {
        "id": "ad0ccb00",
        "outputId": "a1723b62-fbe5-496e-d1df-08f134c2f484"
      },
      "outputs": [
        {
          "data": {
            "text/plain": [
              "-4"
            ]
          },
          "execution_count": 55,
          "metadata": {},
          "output_type": "execute_result"
        }
      ],
      "source": [
        "-x // y"
      ]
    },
    {
      "cell_type": "markdown",
      "id": "e3776081",
      "metadata": {
        "id": "e3776081"
      },
      "source": [
        "## Boolean Operations"
      ]
    },
    {
      "cell_type": "code",
      "execution_count": null,
      "id": "77fe7709",
      "metadata": {
        "id": "77fe7709"
      },
      "outputs": [],
      "source": [
        "x = True\n",
        "y = False"
      ]
    },
    {
      "cell_type": "code",
      "execution_count": null,
      "id": "09a9b8e7",
      "metadata": {
        "id": "09a9b8e7",
        "outputId": "3b1cc1a1-452b-4470-e315-e9d6b158444b"
      },
      "outputs": [
        {
          "data": {
            "text/plain": [
              "True"
            ]
          },
          "execution_count": 57,
          "metadata": {},
          "output_type": "execute_result"
        }
      ],
      "source": [
        "# Logical OR\n",
        "x or y"
      ]
    },
    {
      "cell_type": "code",
      "execution_count": null,
      "id": "98db98a6",
      "metadata": {
        "id": "98db98a6",
        "outputId": "e005173b-0f30-48dd-dd95-c03697f67fae"
      },
      "outputs": [
        {
          "data": {
            "text/plain": [
              "False"
            ]
          },
          "execution_count": 58,
          "metadata": {},
          "output_type": "execute_result"
        }
      ],
      "source": [
        "# Logical AND\n",
        "x and y"
      ]
    },
    {
      "cell_type": "code",
      "execution_count": null,
      "id": "274d65d9",
      "metadata": {
        "id": "274d65d9",
        "outputId": "ab68d26b-42a1-474f-db5e-a9a976b43579"
      },
      "outputs": [
        {
          "data": {
            "text/plain": [
              "False"
            ]
          },
          "execution_count": 59,
          "metadata": {},
          "output_type": "execute_result"
        }
      ],
      "source": [
        "# Logical NOT\n",
        "not x"
      ]
    },
    {
      "cell_type": "code",
      "execution_count": null,
      "id": "609046c9",
      "metadata": {
        "id": "609046c9",
        "outputId": "d5793b0e-48f8-42b0-9e95-5d2024affb52"
      },
      "outputs": [
        {
          "data": {
            "text/plain": [
              "True"
            ]
          },
          "execution_count": 60,
          "metadata": {},
          "output_type": "execute_result"
        }
      ],
      "source": [
        "not y"
      ]
    },
    {
      "cell_type": "markdown",
      "id": "0ae89fad",
      "metadata": {
        "id": "0ae89fad"
      },
      "source": [
        "# Sequence Types"
      ]
    },
    {
      "cell_type": "code",
      "execution_count": null,
      "id": "9c2744d8",
      "metadata": {
        "id": "9c2744d8",
        "outputId": "e339489d-0d05-41b2-c81d-88f424c325f8"
      },
      "outputs": [
        {
          "data": {
            "text/plain": [
              "[23, 45, 62, 34, 87, 91]"
            ]
          },
          "execution_count": 61,
          "metadata": {},
          "output_type": "execute_result"
        }
      ],
      "source": [
        "# list\n",
        "mylst = [23,45,62,34,87,91]\n",
        "mylst"
      ]
    },
    {
      "cell_type": "code",
      "execution_count": null,
      "id": "8f98df97",
      "metadata": {
        "id": "8f98df97",
        "outputId": "a1bc5098-9fd6-4b0b-ccac-47162d971844"
      },
      "outputs": [
        {
          "data": {
            "text/plain": [
              "list"
            ]
          },
          "execution_count": 62,
          "metadata": {},
          "output_type": "execute_result"
        }
      ],
      "source": [
        "type(mylst)"
      ]
    },
    {
      "cell_type": "code",
      "execution_count": null,
      "id": "97c7910a",
      "metadata": {
        "id": "97c7910a",
        "outputId": "b9cb7765-0ff0-46ee-b403-d720c346cf22"
      },
      "outputs": [
        {
          "name": "stdout",
          "output_type": "stream",
          "text": [
            "(11, 22, 33, 44, 55)\n"
          ]
        }
      ],
      "source": [
        "# tuple\n",
        "mytup = (11,22,33,44,55)\n",
        "print(mytup)"
      ]
    },
    {
      "cell_type": "code",
      "execution_count": null,
      "id": "1168a32a",
      "metadata": {
        "id": "1168a32a",
        "outputId": "a96fa7e8-4d43-4706-8316-1e7e973ef68b"
      },
      "outputs": [
        {
          "data": {
            "text/plain": [
              "tuple"
            ]
          },
          "execution_count": 64,
          "metadata": {},
          "output_type": "execute_result"
        }
      ],
      "source": [
        "type(mytup)"
      ]
    },
    {
      "cell_type": "code",
      "execution_count": null,
      "id": "7b4a71fd",
      "metadata": {
        "id": "7b4a71fd",
        "outputId": "e199f307-b1f5-4584-b6a4-2c43e5ee7ad5"
      },
      "outputs": [
        {
          "data": {
            "text/plain": [
              "'Hello'"
            ]
          },
          "execution_count": 65,
          "metadata": {},
          "output_type": "execute_result"
        }
      ],
      "source": [
        "# string\n",
        "s1 = 'Hello'\n",
        "s1"
      ]
    },
    {
      "cell_type": "code",
      "execution_count": null,
      "id": "96dcbdc1",
      "metadata": {
        "id": "96dcbdc1",
        "outputId": "23ea52c6-e421-4ca3-baba-c147c0c23b0f"
      },
      "outputs": [
        {
          "data": {
            "text/plain": [
              "'Apple'"
            ]
          },
          "execution_count": 66,
          "metadata": {},
          "output_type": "execute_result"
        }
      ],
      "source": [
        "s2 = \"Apple\"\n",
        "s2"
      ]
    },
    {
      "cell_type": "code",
      "execution_count": null,
      "id": "b3f90efa",
      "metadata": {
        "id": "b3f90efa",
        "outputId": "5a451886-8ce8-44b2-b94e-c2da793f669a"
      },
      "outputs": [
        {
          "data": {
            "text/plain": [
              "'This is a doc string'"
            ]
          },
          "execution_count": 67,
          "metadata": {},
          "output_type": "execute_result"
        }
      ],
      "source": [
        "s3 = '''This is a doc string'''\n",
        "s3"
      ]
    },
    {
      "cell_type": "code",
      "execution_count": null,
      "id": "244f013e",
      "metadata": {
        "id": "244f013e",
        "outputId": "3e4c152c-3b38-46f3-f1eb-2c5a5dbdae60"
      },
      "outputs": [
        {
          "data": {
            "text/plain": [
              "str"
            ]
          },
          "execution_count": 68,
          "metadata": {},
          "output_type": "execute_result"
        }
      ],
      "source": [
        "type(s1)"
      ]
    },
    {
      "cell_type": "code",
      "execution_count": null,
      "id": "76af1914",
      "metadata": {
        "id": "76af1914",
        "outputId": "5de7b269-13b7-4aa4-fe4d-d5fe391487bc"
      },
      "outputs": [
        {
          "data": {
            "text/plain": [
              "str"
            ]
          },
          "execution_count": 69,
          "metadata": {},
          "output_type": "execute_result"
        }
      ],
      "source": [
        "type(s3)"
      ]
    },
    {
      "cell_type": "code",
      "execution_count": null,
      "id": "fe033c78",
      "metadata": {
        "id": "fe033c78",
        "outputId": "e85a5e78-44e2-417c-db54-2347e32b2874"
      },
      "outputs": [
        {
          "data": {
            "text/plain": [
              "'I love My INDIA\\n It a place of Beauty.\\n Nature is awesome.'"
            ]
          },
          "execution_count": 70,
          "metadata": {},
          "output_type": "execute_result"
        }
      ],
      "source": [
        "s1=\"\"\"I love My INDIA\n",
        " It a place of Beauty.\n",
        " Nature is awesome.\"\"\"\n",
        "s1"
      ]
    },
    {
      "cell_type": "code",
      "execution_count": null,
      "id": "06415189",
      "metadata": {
        "id": "06415189",
        "outputId": "6cc7f93e-5e58-4f6b-f69a-b5c436d3811f"
      },
      "outputs": [
        {
          "name": "stdout",
          "output_type": "stream",
          "text": [
            "I love My INDIA\n",
            "It a place of Beauty.\n",
            "Nature is awesome.\n"
          ]
        }
      ],
      "source": [
        "s1=\"\"\"I love My INDIA\n",
        "It a place of Beauty.\n",
        "Nature is awesome.\"\"\"\n",
        "print(s1)"
      ]
    },
    {
      "cell_type": "code",
      "execution_count": null,
      "id": "bb379bfb",
      "metadata": {
        "id": "bb379bfb",
        "outputId": "27a7c892-d552-4b45-9e6f-337d2b58dabe"
      },
      "outputs": [
        {
          "data": {
            "text/plain": [
              "('I love My INDIA.', ' It a place of Beauty.', 'Nature is awesome.')"
            ]
          },
          "execution_count": 85,
          "metadata": {},
          "output_type": "execute_result"
        }
      ],
      "source": [
        "s1=\"I love My INDIA.\",\" It a place of Beauty.\",\"Nature is awesome.\"\n",
        "s1\n",
        "#print(s1)"
      ]
    },
    {
      "cell_type": "markdown",
      "id": "07cd768a",
      "metadata": {
        "id": "07cd768a"
      },
      "source": [
        "### Positional Indexing - Used for Accessing Data"
      ]
    },
    {
      "cell_type": "code",
      "execution_count": null,
      "id": "0583a76b",
      "metadata": {
        "id": "0583a76b"
      },
      "outputs": [],
      "source": [
        "shop_lst = ['Apples','Soap','Bread','Pen','Laptop']"
      ]
    },
    {
      "cell_type": "code",
      "execution_count": null,
      "id": "31f91ee4",
      "metadata": {
        "id": "31f91ee4",
        "outputId": "f630b780-e46f-440d-e39e-9fd95e366540"
      },
      "outputs": [
        {
          "data": {
            "text/plain": [
              "'Bread'"
            ]
          },
          "execution_count": 87,
          "metadata": {},
          "output_type": "execute_result"
        }
      ],
      "source": [
        "shop_lst[2]"
      ]
    },
    {
      "cell_type": "code",
      "execution_count": null,
      "id": "a7f7f969",
      "metadata": {
        "id": "a7f7f969"
      },
      "outputs": [],
      "source": [
        "mytup = (11,22,33,44,55)"
      ]
    },
    {
      "cell_type": "code",
      "execution_count": null,
      "id": "04479265",
      "metadata": {
        "id": "04479265",
        "outputId": "fbc8a62f-af4c-4349-9e91-5791d47fe919"
      },
      "outputs": [
        {
          "data": {
            "text/plain": [
              "55"
            ]
          },
          "execution_count": 89,
          "metadata": {},
          "output_type": "execute_result"
        }
      ],
      "source": [
        "mytup[4]"
      ]
    },
    {
      "cell_type": "code",
      "execution_count": null,
      "id": "cffa22e6",
      "metadata": {
        "id": "cffa22e6"
      },
      "outputs": [],
      "source": [
        "str1 = 'I love python'"
      ]
    },
    {
      "cell_type": "code",
      "execution_count": null,
      "id": "99545e42",
      "metadata": {
        "id": "99545e42",
        "outputId": "4fa1e8fa-5768-42da-d780-428294c84ecb"
      },
      "outputs": [
        {
          "data": {
            "text/plain": [
              "'y'"
            ]
          },
          "execution_count": 91,
          "metadata": {},
          "output_type": "execute_result"
        }
      ],
      "source": [
        "str1[8]"
      ]
    },
    {
      "cell_type": "code",
      "execution_count": null,
      "id": "93125d50",
      "metadata": {
        "id": "93125d50"
      },
      "outputs": [],
      "source": [
        "mylst = [23,43,54,65,76,87,98,100,35,48]"
      ]
    },
    {
      "cell_type": "code",
      "execution_count": null,
      "id": "2db45e78",
      "metadata": {
        "id": "2db45e78",
        "outputId": "eaddaca0-d910-422f-e236-53e90efa0040"
      },
      "outputs": [
        {
          "data": {
            "text/plain": [
              "[54, 65, 76, 87, 98, 100]"
            ]
          },
          "execution_count": 93,
          "metadata": {},
          "output_type": "execute_result"
        }
      ],
      "source": [
        "# Slicing\n",
        "mylst[2:8]"
      ]
    },
    {
      "cell_type": "code",
      "execution_count": null,
      "id": "efe2329c",
      "metadata": {
        "id": "efe2329c"
      },
      "outputs": [],
      "source": [
        "str1 = 'I love python'"
      ]
    },
    {
      "cell_type": "code",
      "execution_count": null,
      "id": "c2eea7db",
      "metadata": {
        "id": "c2eea7db",
        "outputId": "b51f8ba7-b401-4bee-e57b-89b165171ab4"
      },
      "outputs": [
        {
          "data": {
            "text/plain": [
              "'love'"
            ]
          },
          "execution_count": 95,
          "metadata": {},
          "output_type": "execute_result"
        }
      ],
      "source": [
        "str1[2:6]"
      ]
    },
    {
      "cell_type": "code",
      "execution_count": null,
      "id": "a37682e0",
      "metadata": {
        "id": "a37682e0",
        "outputId": "5299caae-f621-4b59-c2f4-285ad3f09e42"
      },
      "outputs": [
        {
          "data": {
            "text/plain": [
              "'I love'"
            ]
          },
          "execution_count": 96,
          "metadata": {},
          "output_type": "execute_result"
        }
      ],
      "source": [
        "str1[:6]"
      ]
    },
    {
      "cell_type": "code",
      "execution_count": null,
      "id": "d711e240",
      "metadata": {
        "id": "d711e240",
        "outputId": "d97694d2-f57c-4e43-d823-56fd0d9783c0"
      },
      "outputs": [
        {
          "data": {
            "text/plain": [
              "'python'"
            ]
          },
          "execution_count": 97,
          "metadata": {},
          "output_type": "execute_result"
        }
      ],
      "source": [
        "str1[7:]"
      ]
    },
    {
      "cell_type": "code",
      "execution_count": null,
      "id": "e116c4b4",
      "metadata": {
        "id": "e116c4b4",
        "outputId": "8a5308be-2ae1-4d85-9053-11c66267d02c"
      },
      "outputs": [
        {
          "data": {
            "text/plain": [
              "'python'"
            ]
          },
          "execution_count": 98,
          "metadata": {},
          "output_type": "execute_result"
        }
      ],
      "source": [
        "str1[7:len(str1)]"
      ]
    },
    {
      "cell_type": "code",
      "execution_count": null,
      "id": "68103af8",
      "metadata": {
        "id": "68103af8",
        "outputId": "d090817a-8f5c-4606-f1e4-cb2ac87b696d"
      },
      "outputs": [
        {
          "data": {
            "text/plain": [
              "'I love python'"
            ]
          },
          "execution_count": 99,
          "metadata": {},
          "output_type": "execute_result"
        }
      ],
      "source": [
        "str1[:]"
      ]
    },
    {
      "cell_type": "code",
      "execution_count": null,
      "id": "936abc6e",
      "metadata": {
        "id": "936abc6e",
        "outputId": "f29bfbd4-3ba1-4885-d4b5-cecac0c00f53"
      },
      "outputs": [
        {
          "data": {
            "text/plain": [
              "'nohtyp evol I'"
            ]
          },
          "execution_count": 112,
          "metadata": {},
          "output_type": "execute_result"
        }
      ],
      "source": [
        "str1[::-1]"
      ]
    },
    {
      "cell_type": "code",
      "execution_count": null,
      "id": "1419e6e6",
      "metadata": {
        "id": "1419e6e6",
        "outputId": "22722554-0b54-4727-abe6-28169b7cd0ff"
      },
      "outputs": [
        {
          "data": {
            "text/plain": [
              "[10, 11.23, True, 'Apple', [23, 45, 56], (11, 22, 33)]"
            ]
          },
          "execution_count": 101,
          "metadata": {},
          "output_type": "execute_result"
        }
      ],
      "source": [
        "mixed_lst = [10,11.23,True,'Apple',[23,45,56],(11,22,33)]\n",
        "mixed_lst"
      ]
    },
    {
      "cell_type": "code",
      "execution_count": null,
      "id": "6edece2b",
      "metadata": {
        "id": "6edece2b",
        "outputId": "259653ad-570b-4dba-ac88-6f627417d51f"
      },
      "outputs": [
        {
          "data": {
            "text/plain": [
              "45"
            ]
          },
          "execution_count": 102,
          "metadata": {},
          "output_type": "execute_result"
        }
      ],
      "source": [
        "mixed_lst[4][1]"
      ]
    },
    {
      "cell_type": "code",
      "execution_count": null,
      "id": "138456f5",
      "metadata": {
        "id": "138456f5",
        "outputId": "489fa77f-d153-49ea-b9da-5f33cdc4ad44"
      },
      "outputs": [
        {
          "data": {
            "text/plain": [
              "33"
            ]
          },
          "execution_count": 103,
          "metadata": {},
          "output_type": "execute_result"
        }
      ],
      "source": [
        "mixed_lst[5][2]"
      ]
    },
    {
      "cell_type": "code",
      "execution_count": null,
      "id": "41e17377",
      "metadata": {
        "id": "41e17377",
        "outputId": "3e58e6dd-7ccc-4803-9e49-044e3a7bd998"
      },
      "outputs": [
        {
          "data": {
            "text/plain": [
              "(10, 11.23, True, 'Apple', [23, 45, 56], (11, 22, 33))"
            ]
          },
          "execution_count": 104,
          "metadata": {},
          "output_type": "execute_result"
        }
      ],
      "source": [
        "mixed_tup = (10,11.23,True,'Apple',[23,45,56],(11,22,33))\n",
        "mixed_tup"
      ]
    },
    {
      "cell_type": "code",
      "execution_count": null,
      "id": "b8ca949f",
      "metadata": {
        "id": "b8ca949f",
        "outputId": "3f408357-ce5a-4a3c-ed26-d32ed23db2c8"
      },
      "outputs": [
        {
          "data": {
            "text/plain": [
              "45"
            ]
          },
          "execution_count": 105,
          "metadata": {},
          "output_type": "execute_result"
        }
      ],
      "source": [
        "mixed_tup[4][1]"
      ]
    },
    {
      "cell_type": "markdown",
      "id": "b39de1d7",
      "metadata": {
        "id": "b39de1d7"
      },
      "source": [
        "### Iterable"
      ]
    },
    {
      "cell_type": "code",
      "execution_count": null,
      "id": "119f66c0",
      "metadata": {
        "id": "119f66c0",
        "outputId": "80d50ce4-c652-4f3a-fcfa-7361a9b464d3"
      },
      "outputs": [
        {
          "data": {
            "text/plain": [
              "['Apples', 'Soap', 'Bread', 'Pen', 'Laptop']"
            ]
          },
          "execution_count": 106,
          "metadata": {},
          "output_type": "execute_result"
        }
      ],
      "source": [
        "shop_lst"
      ]
    },
    {
      "cell_type": "code",
      "execution_count": null,
      "id": "707b5cd8",
      "metadata": {
        "id": "707b5cd8",
        "outputId": "99158b43-0d36-46b2-c927-7aa380e837bd"
      },
      "outputs": [
        {
          "name": "stdout",
          "output_type": "stream",
          "text": [
            "Apples\n",
            "hi\n",
            "Soap\n",
            "hi\n",
            "Bread\n",
            "hi\n",
            "Pen\n",
            "hi\n",
            "Laptop\n",
            "hi\n",
            "Hello\n"
          ]
        }
      ],
      "source": [
        "for x in shop_lst:\n",
        "    print(x)\n",
        "    print('hi')\n",
        "print('Hello')"
      ]
    },
    {
      "cell_type": "code",
      "execution_count": null,
      "id": "bc99b0dd",
      "metadata": {
        "id": "bc99b0dd"
      },
      "outputs": [],
      "source": [
        "str1 = 'Python3.0'"
      ]
    },
    {
      "cell_type": "code",
      "execution_count": null,
      "id": "321e79f5",
      "metadata": {
        "id": "321e79f5",
        "outputId": "73f3d5c3-ae06-4cc6-ef6d-2d21ce805b51"
      },
      "outputs": [
        {
          "name": "stdout",
          "output_type": "stream",
          "text": [
            "P\n",
            "y\n",
            "t\n",
            "h\n",
            "o\n",
            "n\n",
            "3\n",
            ".\n",
            "0\n"
          ]
        }
      ],
      "source": [
        "for x in str1:\n",
        "    print(x)"
      ]
    }
  ],
  "metadata": {
    "kernelspec": {
      "display_name": "Python 3 (ipykernel)",
      "language": "python",
      "name": "python3"
    },
    "language_info": {
      "codemirror_mode": {
        "name": "ipython",
        "version": 3
      },
      "file_extension": ".py",
      "mimetype": "text/x-python",
      "name": "python",
      "nbconvert_exporter": "python",
      "pygments_lexer": "ipython3",
      "version": "3.11.4"
    },
    "colab": {
      "provenance": [],
      "include_colab_link": true
    }
  },
  "nbformat": 4,
  "nbformat_minor": 5
}